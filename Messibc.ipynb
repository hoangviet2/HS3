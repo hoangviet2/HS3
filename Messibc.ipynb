# Cài đặt PyTorch
!pip install torch torchvision torchaudio -f https://download.pytorch.org/whl/cu102/torch_stable.html
!pip install torch
!pip install facenet-pytorch
#----------------------------------------
from google.colab import drive
drive.mout('content/drive')
#----------------------------------------
import cv2
import numpy as np
from google.colab.patches import cv2_imshow
from sklearn.linear_model import LogisticRegression
from facenet_pytorch import MTCNN, InceptionResnetV1, extract_face
import torch

# Tải mô hình nhận diện khuôn mặt của MTCNN
mtcnn = MTCNN(keep_all=True)

# Tải mô hình rút trích đặc trưng của khuôn mặt
resnet = InceptionResnetV1(pretrained='vggface2').eval()

# Hàm nhận diện khuôn mặt và nhận diện Messi
def recognize_messi(image_path, messi_database):
    # Đọc ảnh
    img = cv2.imread(image_path)

    # Kiểm tra xem ảnh có được đọc thành công hay không
    if img is None:
        print("Không thể đọc ảnh. Đảm bảo đường dẫn đến ảnh là đúng.")
        return

    # Nhận diện khuôn mặt với MTCNN
    boxes, _ = mtcnn.detect(img)

    # Kiểm tra xem có khuôn mặt nào hay không
    if boxes is not None:
        for box in boxes:
            # Rút trích khuôn mặt từ ảnh gốc
            face = extract_face(img, box)

            # Đổi kích thước khuôn mặt về kích thước chuẩn (160x160 pixel chẳng hạn)
            face_resized = cv2.resize(face.permute(1, 2, 0).numpy(), (160, 160))

            # Rút trích vector đặc trưng của khuôn mặt
            face_descriptor = get_face_descriptor(face_resized, resnet)

            # Kiểm tra xem đây có phải là Messi không
            is_messi = predict_messi_logistic_regression(face_descriptor, messi_database)

            if is_messi:
                print("Đây là Lionel Messi!")
            else:
                print("Đây không phải là Lionel Messi.")

            # Vẽ hình chữ nhật quanh khuôn mặt
            x, y, w, h = box.astype(int)
            cv2.rectangle(img, (x, y), (x+w, y+h), (0, 255, 0), 2)

    # Hiển thị ảnh với kết quả nhận diện
    cv2_imshow(img)

# Hàm rút trích vector đặc trưng của khuôn mặt sử dụng mô hình FaceNet
def get_face_descriptor(face_image, resnet_model):
    # Chuyển đổi ảnh thành định dạng và kiểu dữ liệu phù hợp
    input_image = torch.tensor(face_image.transpose((2, 0, 1))[None]).float()

    # Rút trích vector đặc trưng của khuôn mặt với mô hình FaceNet
    with torch.no_grad():
        face_descriptor = resnet_model(input_image).squeeze().numpy()

    return face_descriptor

# Hàm dự đoán xem khuôn mặt có phải là Messi hay không
def predict_messi_logistic_regression(face_descriptor, messi_database):
    # Sử dụng mô hình học máy đã được huấn luyện để dự đoán
    clf = LogisticRegression()
    X_train = list(messi_database.values()) + [np.random.rand(512)]  # Thêm một ví dụ không phải Messi
    y_train = [1] * len(messi_database) + [0]  # Gán nhãn 1 cho Messi và nhãn 0 cho các khuôn mặt khác
    clf.fit(X_train, y_train)

    # Dự đoán với mô hình đã được huấn luyện
    prediction = clf.predict([face_descriptor])

    return prediction[0] == 1 and clf.predict_proba([face_descriptor])[0][1] > 0.5

# Tạo dữ liệu huấn luyện giả định cho Messi
messi_database = {
    'messi1': np.random.rand(512),
    'messi2': np.random.rand(512),
    # Thêm các vector đặc trưng của Messi khác vào đây
}

# Thực hiện nhận diện trên ảnh cụ thể
image_path = '/content/184-1847379_download-maria-sharapova-wallpaper-2013-wallpaper-hd-full.jpg'
recognize_messi(image_path, messi_database)
#-----------------------------------------------------------
import os
import cv2
import numpy as np
from sklearn.linear_model import LogisticRegression
from sklearn.model_selection import train_test_split
from keras.models import load_model
from keras.preprocessing import image as keras_image
from keras.applications.vgg16 import preprocess_input

def extract_face_features(face_image, model):
    img_array = keras_image.img_to_array(face_image)
    img_array = np.expand_dims(img_array, axis=0)
    img_array = preprocess_input(img_array)
    features = model.predict(img_array)
    face_descriptor = features.flatten()
    return face_descriptor

def prepare_data(data_path, label):
    features = []
    labels = []

    # Load pre-trained face detection model
    face_detector = dlib.get_frontal_face_detector()

    # Load pre-trained face recognition model
    face_model = load_model('path/to/your/face_model.h5')

    # Iterate over images in the data path
    for image_file in os.listdir(data_path):
        image_path = os.path.join(data_path, image_file)
        img = cv2.imread(image_path)

        # Convert image to grayscale
        gray = cv2.cvtColor(img, cv2.COLOR_BGR2GRAY)

        # Detect faces in the image
        faces = face_detector(gray)

        for face in faces:
            x, y, w, h = face.left(), face.top(), face.width(), face.height()
            face_roi = img[y:y+h, x:x+w]
            face_roi_resized = cv2.resize(face_roi, (128, 128))
            face_descriptor = extract_face_features(face_roi_resized, face_model)
            features.append(face_descriptor)
            labels.append(label)

    return features, labels

# Paths to the datasets
messi_data_path = 'path/to/your/messi_dataset/'
non_messi_data_path = 'path/to/your/non_messi_dataset/'

# Prepare data for Messi
messi_features, messi_labels = prepare_data(messi_data_path, 1)

# Prepare data for non-Messi
non_messi_features, non_messi_labels = prepare_data(non_messi_data_path, 0)

# Combine Messi and non-Messi data
all_features = messi_features + non_messi_features
all_labels = messi_labels + non_messi_labels

# Split the data into training and testing sets
X_train, X_test, y_train, y_test = train_test_split(all_features, all_labels, test_size=0.2, random_state=42)

# Initialize Logistic Regression model
logreg_model = LogisticRegression()

# Train the model
logreg_model.fit(X_train, y_train)

# Evaluate the model
accuracy = logreg_model.score(X_test, y_test)
print(f"Accuracy: {accuracy}")
